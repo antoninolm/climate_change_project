{
 "cells": [
  {
   "cell_type": "code",
   "execution_count": 34,
   "id": "f1a3d2b1",
   "metadata": {},
   "outputs": [],
   "source": [
    "import pandas as pd"
   ]
  },
  {
   "cell_type": "code",
   "execution_count": 35,
   "id": "4661cc9c",
   "metadata": {},
   "outputs": [],
   "source": [
    "# Load the full dataset (149MB)\n",
    "df = pd.read_csv(\"../data/all_clean_weather_1984_2024_filtered.csv\")\n",
    "\n",
    "# Step 1: Identify stations with enough data\n",
    "station_counts = df.groupby('NOM_USUEL')['DATE'].nunique()\n",
    "top_stations = station_counts[station_counts >= 10000].index"
   ]
  },
  {
   "cell_type": "code",
   "execution_count": 36,
   "id": "232d0839",
   "metadata": {},
   "outputs": [],
   "source": [
    "# Step 2: Filter the full dataset to only those top stations\n",
    "df_top = df[df['NOM_USUEL'].isin(top_stations)].copy()"
   ]
  },
  {
   "cell_type": "code",
   "execution_count": 37,
   "id": "41396ada",
   "metadata": {},
   "outputs": [],
   "source": [
    "# Step 3: Clean and enrich the dataset\n",
    "df_top['DEP'] = df_top['DEP'].astype(str).str.zfill(2)\n",
    "# Region mapping\n",
    "dep_to_region = {\n",
    "    '01': 'Auvergne-Rhône-Alpes', '02': 'Hauts-de-France', '03': 'Auvergne-Rhône-Alpes',\n",
    "    '04': 'Provence-Alpes-Côte d\\'Azur', '05': 'Provence-Alpes-Côte d\\'Azur',\n",
    "    '06': 'Provence-Alpes-Côte d\\'Azur', '07': 'Auvergne-Rhône-Alpes',\n",
    "    '08': 'Grand Est', '09': 'Occitanie', '10': 'Grand Est', '11': 'Occitanie',\n",
    "    '12': 'Occitanie', '13': 'Provence-Alpes-Côte d\\'Azur', '14': 'Normandie',\n",
    "    '15': 'Auvergne-Rhône-Alpes', '16': 'Nouvelle-Aquitaine', '17': 'Nouvelle-Aquitaine',\n",
    "    '18': 'Centre-Val de Loire', '19': 'Nouvelle-Aquitaine', '2A': 'Corse',\n",
    "    '2B': 'Corse', '20': 'Corse', '21': 'Bourgogne-Franche-Comté', '22': 'Bretagne',\n",
    "    '23': 'Nouvelle-Aquitaine', '24': 'Nouvelle-Aquitaine', '25': 'Bourgogne-Franche-Comté',\n",
    "    '26': 'Auvergne-Rhône-Alpes', '27': 'Normandie', '28': 'Centre-Val de Loire',\n",
    "    '29': 'Bretagne', '30': 'Occitanie', '31': 'Occitanie', '32': 'Occitanie',\n",
    "    '33': 'Nouvelle-Aquitaine', '34': 'Occitanie', '35': 'Bretagne',\n",
    "    '36': 'Centre-Val de Loire', '37': 'Centre-Val de Loire', '38': 'Auvergne-Rhône-Alpes',\n",
    "    '39': 'Bourgogne-Franche-Comté', '40': 'Nouvelle-Aquitaine', '41': 'Centre-Val de Loire',\n",
    "    '42': 'Auvergne-Rhône-Alpes', '43': 'Auvergne-Rhône-Alpes', '44': 'Pays de la Loire',\n",
    "    '45': 'Centre-Val de Loire', '46': 'Occitanie', '47': 'Nouvelle-Aquitaine',\n",
    "    '48': 'Occitanie', '49': 'Pays de la Loire', '50': 'Normandie', '51': 'Grand Est',\n",
    "    '52': 'Grand Est', '53': 'Pays de la Loire', '54': 'Grand Est', '55': 'Grand Est',\n",
    "    '56': 'Bretagne', '57': 'Grand Est', '58': 'Bourgogne-Franche-Comté',\n",
    "    '59': 'Hauts-de-France', '60': 'Hauts-de-France', '61': 'Normandie',\n",
    "    '62': 'Hauts-de-France', '63': 'Auvergne-Rhône-Alpes', '64': 'Nouvelle-Aquitaine',\n",
    "    '65': 'Occitanie', '66': 'Occitanie', '67': 'Grand Est', '68': 'Grand Est',\n",
    "    '69': 'Auvergne-Rhône-Alpes', '70': 'Bourgogne-Franche-Comté',\n",
    "    '71': 'Bourgogne-Franche-Comté', '72': 'Pays de la Loire', '73': 'Auvergne-Rhône-Alpes',\n",
    "    '74': 'Auvergne-Rhône-Alpes', '75': 'Île-de-France', '76': 'Normandie',\n",
    "    '77': 'Île-de-France', '78': 'Île-de-France', '79': 'Nouvelle-Aquitaine',\n",
    "    '80': 'Hauts-de-France', '81': 'Occitanie', '82': 'Occitanie',\n",
    "    '83': 'Provence-Alpes-Côte d\\'Azur', '84': 'Provence-Alpes-Côte d\\'Azur',\n",
    "    '85': 'Pays de la Loire', '86': 'Nouvelle-Aquitaine', '87': 'Nouvelle-Aquitaine',\n",
    "    '88': 'Grand Est', '89': 'Bourgogne-Franche-Comté', '90': 'Bourgogne-Franche-Comté',\n",
    "    '91': 'Île-de-France', '92': 'Île-de-France', '93': 'Île-de-France',\n",
    "    '94': 'Île-de-France', '95': 'Île-de-France'\n",
    "}\n",
    "\n",
    "df_top['REGION'] = df_top['DEP'].map(dep_to_region)"
   ]
  },
  {
   "cell_type": "code",
   "execution_count": 38,
   "id": "55d0ae50",
   "metadata": {},
   "outputs": [],
   "source": [
    "# Step 4: Select only columns needed for map visualization\n",
    "df_map_ready = df_top[['NOM_USUEL', 'LAT', 'LON', 'DEP', 'REGION']].dropna()"
   ]
  },
  {
   "cell_type": "code",
   "execution_count": 39,
   "id": "502682a7",
   "metadata": {},
   "outputs": [],
   "source": [
    "# Step 5: Drop duplicate stations (in case there are multiple entries per station)\n",
    "df_map_ready = df_map_ready.drop_duplicates(subset='NOM_USUEL')"
   ]
  },
  {
   "cell_type": "code",
   "execution_count": 43,
   "id": "48932300",
   "metadata": {},
   "outputs": [
    {
     "name": "stdout",
     "output_type": "stream",
     "text": [
      "✅ Saved stations_with_regions.csv with 126 stations.\n"
     ]
    }
   ],
   "source": [
    "# Step 6: Save the cleaned, lightweight CSV\n",
    "df_map_ready.to_csv(\"../app/stations_with_regions.csv\", index=False)\n",
    "print(\"✅ Saved stations_with_regions.csv with\", len(df_map_ready), \"stations.\")"
   ]
  },
  {
   "cell_type": "code",
   "execution_count": null,
   "id": "0ec1f21d",
   "metadata": {},
   "outputs": [],
   "source": []
  }
 ],
 "metadata": {
  "kernelspec": {
   "display_name": "Python 3 (ipykernel)",
   "language": "python",
   "name": "python3"
  },
  "language_info": {
   "codemirror_mode": {
    "name": "ipython",
    "version": 3
   },
   "file_extension": ".py",
   "mimetype": "text/x-python",
   "name": "python",
   "nbconvert_exporter": "python",
   "pygments_lexer": "ipython3",
   "version": "3.10.6"
  },
  "toc": {
   "base_numbering": 1,
   "nav_menu": {},
   "number_sections": true,
   "sideBar": true,
   "skip_h1_title": false,
   "title_cell": "Table of Contents",
   "title_sidebar": "Contents",
   "toc_cell": false,
   "toc_position": {},
   "toc_section_display": true,
   "toc_window_display": false
  }
 },
 "nbformat": 4,
 "nbformat_minor": 5
}
